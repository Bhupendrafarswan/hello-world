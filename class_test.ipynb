{
  "nbformat": 4,
  "nbformat_minor": 0,
  "metadata": {
    "colab": {
      "name": "class_test.ipynb",
      "private_outputs": true,
      "provenance": [],
      "authorship_tag": "ABX9TyPPkoUYJIHT8YtDzPwEd1qD",
      "include_colab_link": true
    },
    "kernelspec": {
      "name": "python3",
      "display_name": "Python 3"
    },
    "language_info": {
      "name": "python"
    }
  },
  "cells": [
    {
      "cell_type": "markdown",
      "metadata": {
        "id": "view-in-github",
        "colab_type": "text"
      },
      "source": [
        "<a href=\"https://colab.research.google.com/github/Bhupendrafarswan/hello-world/blob/main/class_test.ipynb\" target=\"_parent\"><img src=\"https://colab.research.google.com/assets/colab-badge.svg\" alt=\"Open In Colab\"/></a>"
      ]
    },
    {
      "cell_type": "code",
      "metadata": {
        "id": "9Bnbd4V7KQo_"
      },
      "source": [
        "# calculator in python using while loop\n",
        "print(\"1 for addition \\n 2 foe subtraction \\n 3 for multiply 4 for division\")\n",
        "ch=int(input(\"enter your choice\")\n",
        "a=int(input(\"Enter 1st number :\"))\n",
        "b=int(input(\"Enter 2nd number :\"))\n",
        "if ch==1:\n",
        "  add(a,b)\n",
        "elif ch==2:\n",
        "  sub(a,b) \n",
        "elif ch==3:\n",
        "  mul(a,b)\n",
        "elif ch==4:\n",
        "  dev(a,b)\n",
        "else:\n",
        "  print(\"wrong number \") \n",
        "\n",
        "def add(a,b):\n",
        "  return a+b\n",
        "def sub(a,b):\n",
        "  return a-b\n",
        "def mul(a,b):\n",
        "  return a*b\n",
        "def dev(a,b):\n",
        "  return a/b\n",
        "\n",
        "\n",
        "\n"
      ],
      "execution_count": null,
      "outputs": []
    },
    {
      "cell_type": "code",
      "metadata": {
        "id": "18iATTm2O3dy"
      },
      "source": [
        "def addition(a,b):\n",
        "    print(\"Addition=\",a+b)\n",
        "\n",
        "def subtraction(a,b):\n",
        "    print(\"Subtraction=\",a-b)\n",
        "\n",
        "def multiplication(a,b):\n",
        "    print(\"Multiplication=\",a*b)\n",
        "\n",
        "def division(a,b):\n",
        "    print(\"Division=\",a/b)\n",
        "\n",
        "\n",
        "def pri():\n",
        "  a=int(input(\"Enter 1st Number:\"))\n",
        "  b=int(input(\"Enter 2nd Number:\"))\n",
        "\n",
        "\n",
        "\n",
        "while True:\n",
        "    print(\"1. Addition\")\n",
        "    print(\"2. Subtraction\")\n",
        "    print(\"3. Multiplication\")\n",
        "    print(\"4. Division\")    \n",
        "    print(\"5. Exit\")\n",
        "    choice=int(input(\"Enter your choice:\"))\n",
        "\n",
        "    if choice==1 or choice==2 or choice==3 or choice==4 :\n",
        "      pri()\n",
        "\n",
        "\n",
        "\n",
        "    if choice==1:\n",
        "        addition(a,b)\n",
        "\n",
        "    elif choice==2:\n",
        "        subtraction(a,b)\n",
        "    \n",
        "    elif choice==3:\n",
        "        multiplication(a,b)\n",
        "    \n",
        "    elif choice==4:\n",
        "        if num2 == 0:\n",
        "            print('not possiable')\n",
        "        else:\n",
        "            division(a,b)\n",
        "                \n",
        "    elif choice==5:\n",
        "        break\n",
        "    else:\n",
        "        print(\"Wrong Choice\")"
      ],
      "execution_count": null,
      "outputs": []
    },
    {
      "cell_type": "code",
      "metadata": {
        "id": "fqvK60qyQo3A"
      },
      "source": [
        "\n",
        "def fect(n):\n",
        "  if n<=0:\n",
        "    return 0\n",
        "  else:\n",
        "    fact=1\n",
        "    while (n>1):\n",
        "      fact=fact*n\n",
        "      n=n-1\n",
        "    return fact\n",
        "num=int(input(\"entrt your pumber:\"))   \n",
        "print(fect(num))     "
      ],
      "execution_count": null,
      "outputs": []
    },
    {
      "cell_type": "code",
      "metadata": {
        "id": "9xraUBSsbgG8"
      },
      "source": [
        ""
      ],
      "execution_count": null,
      "outputs": []
    }
  ]
}