{
  "nbformat": 4,
  "nbformat_minor": 0,
  "metadata": {
    "colab": {
      "name": "ERP_Assignment_Bhupendra.ipynb",
      "private_outputs": true,
      "provenance": [],
      "collapsed_sections": [],
      "authorship_tag": "ABX9TyOr3PBZ+GOvNPRk51Q+dbGM",
      "include_colab_link": true
    },
    "kernelspec": {
      "name": "python3",
      "display_name": "Python 3"
    },
    "language_info": {
      "name": "python"
    }
  },
  "cells": [
    {
      "cell_type": "markdown",
      "metadata": {
        "id": "view-in-github",
        "colab_type": "text"
      },
      "source": [
        "<a href=\"https://colab.research.google.com/github/Bhupendrafarswan/hello-world/blob/main/ERP_Assignment_Bhupendra.ipynb\" target=\"_parent\"><img src=\"https://colab.research.google.com/assets/colab-badge.svg\" alt=\"Open In Colab\"/></a>"
      ]
    },
    {
      "cell_type": "code",
      "metadata": {
        "id": "4UzCfewtUKVY"
      },
      "source": [
        "#     DATA VISUALIZATION USING PYPLOT --ASSIGNMENTS -1\n",
        "#     Name : Bhupendra\n",
        "#     Course : BCA (2nd year)\n",
        "#     Q id  :20120006\n",
        "#     roll.no : QU2001311029"
      ],
      "execution_count": null,
      "outputs": []
    },
    {
      "cell_type": "code",
      "metadata": {
        "id": "cBlxIZHeVz9b"
      },
      "source": [
        "# Q.1 What is matplotlib?\n",
        "# Ans -Matplotlib is an amazing visualization library in Python for 2D plots of arrays.\n",
        "#      Matplotlib is a multi-platform data visualization library built on NumPy arrays and designed to work with the broader SciPy stack.\n",
        "#      Matplotlib consists of several plots like line, bar, scatter, histogram etc.\n",
        "#      It was introduced by John Hunter in the year 2002."
      ],
      "execution_count": null,
      "outputs": []
    },
    {
      "cell_type": "code",
      "metadata": {
        "id": "eEC3edkhi-Pp"
      },
      "source": [
        "# Q.2 Which function is used to show the graph?\n",
        "# Ans.2 show() function is used to show the graph."
      ],
      "execution_count": null,
      "outputs": []
    },
    {
      "cell_type": "code",
      "metadata": {
        "id": "YcnvEBoxihPH"
      },
      "source": [
        "#Q.3 Write a python program to display a bar graph of the number of students in a class ,Use different color for each bar. Sample Data\n",
        "#Class : I,II,III,IV,V,VI,VII,VIII\n",
        "#Strengths : 45,56,34,44,39,42,43,52\n",
        "\n",
        "import matplotlib.pyplot as plt \n",
        "\n",
        "x=[1,2,3,4,5,6,7,8]\n",
        "y=[45,56,34,44,39,42,43,52]\n",
        "plt.xlabel(\"Class \")\n",
        "plt.ylabel(\"Strength\")\n",
        "plt.title('Sample Data')\n",
        "c=['red','yellow','black','blue','orange','pink','cyan','green']\n",
        "plt.bar(x,y,color=c)\n",
        "plt.show()"
      ],
      "execution_count": null,
      "outputs": []
    },
    {
      "cell_type": "code",
      "metadata": {
        "id": "oPGeTbvYj66g"
      },
      "source": [
        "#Q.4 Write a python program using matplotlib.pyplot library to create a bar graph with following list values\n",
        "#  x = [2,4,6,8,10]\n",
        "#  y = [3,9,11,2,6]\n",
        "\n",
        "import matplotlib.pyplot as plt \n",
        "\n",
        "x=[2,4,6,8,10]\n",
        "y=[3,9,11,2,6]\n",
        "plt.xlabel(\"X-axis\")\n",
        "plt.ylabel(\"Y-axis\")\n",
        "plt.title('Bar Graph')\n",
        "c=['r','y','k','b','g']\n",
        "plt.bar(x,y,color=c)\n",
        "plt.show()"
      ],
      "execution_count": null,
      "outputs": []
    },
    {
      "cell_type": "code",
      "metadata": {
        "id": "5jmcSUMZikux"
      },
      "source": [
        "# Q.5 Name the various methods used with pyplot object.\n",
        "# Ans 5 - dir() shows all methods in any module\n",
        "\n",
        "import matplotlib\n",
        "from matplotlib import pyplot\n",
        "print(dir(pyplot))"
      ],
      "execution_count": null,
      "outputs": []
    },
    {
      "cell_type": "code",
      "metadata": {
        "id": "L2kR5LkRts5j"
      },
      "source": [
        "# Q.6 How is pie chart different from a bar graph?\n",
        "#Ans.6 \n",
        "# Bar grapg : A bar graph represents data using a series of bars across two axes.\n",
        "#             The flexibility of a bar chart allows you to use it to present percentages, totals, counts and many other things.\n",
        "\n",
        "# Pie chart : Pie charts are circular graphs that display percentages of a whole as if they were slices of a pie."
      ],
      "execution_count": null,
      "outputs": []
    },
    {
      "cell_type": "code",
      "metadata": {
        "id": "rYNVQTgp3_IW"
      },
      "source": [
        "# Q.7 Write a python program to draw a line with suitable label in the x axis and y axis and a title.\n",
        "#Ans.7-\n",
        "\n",
        "import matplotlib.pyplot as plt \n",
        "x=[1,2,3,4]\n",
        "y=[5,6,7,8]\n",
        "plt.xlabel(\"X-axis\")\n",
        "plt.ylabel(\"Y-axis\")\n",
        "plt.title('Line chart')\n",
        "plt.plot(x,y,'r')\n",
        "plt.show()"
      ],
      "execution_count": null,
      "outputs": []
    },
    {
      "cell_type": "code",
      "metadata": {
        "id": "IShU1wyX8KOZ"
      },
      "source": [
        "# Q.8 Write a python program to plot two/more lines and set the line markers.\n",
        "#Ans.8 -\n",
        "\n",
        "import matplotlib.pyplot as plt\n",
        "x = [1,2,5,6,10]\n",
        "y = [2,6,3,6,3] \n",
        "plt.plot(x, y, color='blue', linestyle='dashdot', linewidth = 2,\n",
        "         marker='p', markerfacecolor='green', markersize=10)\n",
        "plt.xlabel('x - axis')\n",
        "plt.ylabel('y - axis')\n",
        "plt.title('Line Graph marker')\n",
        "plt.show()"
      ],
      "execution_count": null,
      "outputs": []
    },
    {
      "cell_type": "code",
      "metadata": {
        "id": "k8DlyMMH-gUI"
      },
      "source": [
        "# Q.9 Write notes on following functions – shape(),legend()\n",
        "# Ans.9:\n",
        "# shape()  : The Python shape() method returns a tuple denoting the dimensions of a Python object on which it is applied.\n",
        "# legend() : A legend is an area describing the elements of the graph. In the matplotlib library, there’s a function called legend() which is used to Place a legend on the axes."
      ],
      "execution_count": null,
      "outputs": []
    },
    {
      "cell_type": "code",
      "metadata": {
        "id": "FKYaEtCXGQ7G"
      },
      "source": [
        "#example of legend() function\n",
        "import numpy as np\n",
        "import matplotlib.pyplot as plt\n",
        "\n",
        "x = [1, 2, 3, 4, 5]\n",
        "y = [1, 4, 9, 16, 25]\n",
        "plt.plot(x, y)\n",
        "plt.legend(['single element'])   # Function add a legend\n",
        "plt.show()\n",
        "\n",
        "#example of shape() function \n",
        " \n",
        "a = np.array([89, 34, 56, 87, 90, 23, 45, 12, 65, 78, 9, 34, 12, 11, 2, 65, 78, 82, 28, 78]) \n",
        "b = np.array([[11, 12, 5], [15, 6,10], [10, 8, 12], [12,15,8], [34, 78, 90]])\n",
        "dimensions_a = np.shape(a) \n",
        "dimensions_b = np.shape(b)\n",
        "print(dimensions_a)  \n",
        "print(dimensions_b)\n",
        "print(a)\n",
        "print(b)"
      ],
      "execution_count": null,
      "outputs": []
    },
    {
      "cell_type": "code",
      "metadata": {
        "id": "j-RlOZspJJq4"
      },
      "source": [
        "# Q.10 What is data visualization ? what is its significance?\n",
        "# Ans.10 Data visualization gives us a clear idea of what the information means by giving it visual context through maps or graphs. \n",
        "#        This makes the data more natural for the human mind to comprehend and therefore makes it easier to identify trends, patterns, and outliers within large data sets.\n",
        "#     The purpose of data visualization is pretty clear. It is to make sense of the data and use the information for the organization’s benefits."
      ],
      "execution_count": null,
      "outputs": []
    },
    {
      "cell_type": "code",
      "metadata": {
        "id": "h3qWsAgYlmDU"
      },
      "source": [
        "# Q.11 Name some commonly used chart types\n",
        "# Ans.11 - \n",
        "'''\n",
        "Column Chart\n",
        "Line Graph\n",
        "Pie Chart\n",
        "Bar Graph\n",
        "Bubble Chart\n",
        "Stacked Bar Graph\n",
        "Stacked Column Chart\n",
        "Area Chart\n",
        "Dual Axis Chart\n",
        "Mekko Chart\n",
        "Waterfall Chart\n",
        "Scatter Plot Chart\n",
        "Bullet Graph\n",
        "Funnel Chart\n",
        "Heat Map\n",
        "'''"
      ],
      "execution_count": null,
      "outputs": []
    },
    {
      "cell_type": "code",
      "metadata": {
        "id": "1Q02pNnJmQjC"
      },
      "source": [
        "# Q.12 Compare bar() and bars() functions\n",
        "# Ans.12-   bars() function does not exist.\n",
        "#  BAR Graph (bar() function) - plots vertical rectangles with constant width. \n",
        "#  BARH Graph (barh() function) - plots horizontal rectangles with constant heights."
      ],
      "execution_count": null,
      "outputs": []
    },
    {
      "cell_type": "code",
      "metadata": {
        "id": "y_odzsLYpqIO"
      },
      "source": [
        "# Q.13 Write a Python program to plot two or more lines with legends, different widths and colors.\n",
        "# Ans.13- \n",
        "\n",
        "import matplotlib.pyplot as plt\n",
        "# line 1 points\n",
        "x1 = [10,20,30]\n",
        "y1 = [20,40,10]\n",
        "# line 2 points\n",
        "x2 = [10,20,30]\n",
        "y2 = [40,10,30]\n",
        "# Set the x axis label of the current axis.\n",
        "plt.xlabel('x - axis')\n",
        "# Set the y axis label of the current axis.\n",
        "plt.ylabel('y - axis')\n",
        "# Set a title \n",
        "plt.title('Multy lines chart ')\n",
        "# Display the figure.\n",
        "plt.plot(x1,y1, color='blue', linewidth = 3,  label = 'line1')\n",
        "plt.plot(x2,y2, color='green', linewidth = 7,  label = 'line2')\n",
        "# show a legend on the plot\n",
        "plt.legend()\n",
        "plt.show()"
      ],
      "execution_count": null,
      "outputs": []
    },
    {
      "cell_type": "code",
      "metadata": {
        "id": "Qk6dWnyxo5di"
      },
      "source": [
        "# Q.14 The table below shows daily temperatures for Shimla City, recorded for 6 days, in degrees Fahrenheit. Temperatures In NY City . Day Temperature\n",
        "# 1 43° F\n",
        "# 2 53° F\n",
        "# 3 50° F\n",
        "# 4 57° F\n",
        "# 5 59° F\n",
        "# 6 67° F\n",
        "# Write python program to draw line chart of temperature.\n",
        "\n",
        "#Ans.14-\n",
        "\n",
        "import matplotlib.pyplot as plt\n",
        "\n",
        "x = [1, 2, 3, 4, 5,6]\n",
        "y = [43,53,50,57,59,67]\n",
        "plt.plot(x, y)\n",
        "plt.xlabel('Day')\n",
        "plt.ylabel('Temperatures')\n",
        "plt.title('Daily temperatures for Shimla City')\n",
        "plt.legend(['Daily temperatures']) \n",
        "plt.show()"
      ],
      "execution_count": null,
      "outputs": []
    },
    {
      "cell_type": "code",
      "metadata": {
        "id": "DCR1HSQgrecd"
      },
      "source": [
        "# Q.15 Here is how many students got each grade in the recent test:\n",
        "# A B C D\n",
        "# 4 12 10 2\n",
        "# Write python program to draw pie chart of grades\n",
        "\n",
        "# Ans.15-\n",
        "\n",
        "from matplotlib import pyplot as plt\n",
        "\n",
        "labels = 'A', 'B', 'C','D'\n",
        "sizes =[4,12,10,2]\n",
        "colors=['gold','blue','red','orange']\n",
        "explodes=(0.2,0.0,0.0,0.0)\n",
        "plt.pie(sizes,explode=explodes,labels=labels,colors=colors,shadow=True)\n",
        "plt.title(\"pie chart\")\n",
        "plt.show()"
      ],
      "execution_count": null,
      "outputs": []
    },
    {
      "cell_type": "code",
      "metadata": {
        "id": "qLNpIqdLvopf"
      },
      "source": [
        "# Q.16 Imagine you survey your friends to find the kind of movie they like best:\n",
        "# Table: Favorite Type of Movie\n",
        "# Comedy Action Romance Drama SciFi\n",
        "# 4 5 6 1 4\n",
        "# Write python program to draw pie chart of above data\n",
        "\n",
        "# Ans.16-\n",
        "\n",
        "from matplotlib import pyplot as plt\n",
        "\n",
        "l = 'Comedy', 'Action', 'Romance','Drama','SciFi'\n",
        "sizes =[4,5,6,1,4]\n",
        "c=['r','b','g','c','k']\n",
        "plt.pie(sizes,labels=l,colors=c,shadow=False)\n",
        "plt.title(\"pie chart\")\n",
        "plt.show()"
      ],
      "execution_count": null,
      "outputs": []
    },
    {
      "cell_type": "code",
      "metadata": {
        "id": "ARobYwWjz56E"
      },
      "source": [
        ""
      ],
      "execution_count": null,
      "outputs": []
    }
  ]
}